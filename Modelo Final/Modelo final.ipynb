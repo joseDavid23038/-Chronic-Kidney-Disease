{
 "cells": [
  {
   "cell_type": "markdown",
   "metadata": {},
   "source": [
    "Importação das bibliotecas a serem utilizadas no modelo final."
   ]
  },
  {
   "cell_type": "code",
   "execution_count": 67,
   "metadata": {},
   "outputs": [],
   "source": [
    "import pandas as pd\n",
    "import numpy as np\n",
    "import seaborn as sns\n",
    "\n",
    "from sklearn.preprocessing import MinMaxScaler\n",
    "from sklearn.model_selection import train_test_split\n",
    "from sklearn.ensemble import RandomForestClassifier\n",
    "from sklearn.metrics import confusion_matrix\n",
    "from sklearn.metrics import accuracy_score"
   ]
  },
  {
   "cell_type": "markdown",
   "metadata": {},
   "source": [
    "Definição das features, do target e tratamento básico padrão. É importante ressaltar que nas features categóricas, as colunas que apenas eram opostas, por exemplo \"pc_normal\" e \"pc_abnormal\" foram resumidas à label positiva, ou seja, apenas \"pc_normal\". É importante ressaltar que fazer isso não prejudicou ou melhorou o desempenho do modelo."
   ]
  },
  {
   "cell_type": "code",
   "execution_count": 68,
   "metadata": {},
   "outputs": [],
   "source": [
    "FEATURES = ['age', 'bp','bgr','bu','sc','sod','pot','hemo','pcv','wc','rc','pc_normal','pcc_present',\n",
    "            'ba_present','htn_yes','dm_yes','cad_yes','appet_good','pe_yes','rbc_normal','ane_yes']\n",
    "\n",
    "TARGET = ['ckd']\n",
    "\n",
    "df_final = pd.read_excel('CKD_DF_TRATADO.xlsx')\n",
    "df_final = df_final.reindex(FEATURES + TARGET, axis=1)\n",
    "df_final = df_final.dropna()  \n",
    "df_finalNP = df_final.to_numpy()"
   ]
  },
  {
   "cell_type": "markdown",
   "metadata": {},
   "source": [
    "A realização da slit treino e teste é feita e todo o processo segue como exibido no notebook inicial."
   ]
  },
  {
   "cell_type": "code",
   "execution_count": 69,
   "metadata": {},
   "outputs": [],
   "source": [
    "TAMANHO_TESTE = 0.33\n",
    "SEMENTE_ALEATORIA = 42\n",
    "\n",
    "X_treino, X_teste, y_treino, y_teste = train_test_split(df_finalNP[:, :-1], \n",
    "                                                        df_finalNP[:, -1], \n",
    "                                                        test_size=TAMANHO_TESTE, \n",
    "                                                        random_state=SEMENTE_ALEATORIA)"
   ]
  },
  {
   "cell_type": "code",
   "execution_count": 70,
   "metadata": {},
   "outputs": [
    {
     "name": "stdout",
     "output_type": "stream",
     "text": [
      "Acurácia de 98.425% no modelo floresta aleatória\n"
     ]
    },
    {
     "data": {
      "image/png": "[encoded data removed]",
      "text/plain": [
       "<Figure size 640x480 with 2 Axes>"
      ]
     },
     "metadata": {},
     "output_type": "display_data"
    }
   ],
   "source": [
    "N_ARVORES = 50\n",
    "N_JOBS = 1\n",
    "\n",
    "modelo_rf = RandomForestClassifier(    \n",
    "    n_estimators=N_ARVORES,\n",
    "    random_state=SEMENTE_ALEATORIA,\n",
    "    n_jobs=N_JOBS,)\n",
    "\n",
    "modelo_rf.fit(X_treino, y_treino)\n",
    "\n",
    "y_verdadeiro = y_teste\n",
    "y_previsao = modelo_rf.predict(X_teste)\n",
    "\n",
    "matriz_conf = confusion_matrix(y_verdadeiro, y_previsao)\n",
    "\n",
    "\n",
    "df_conf = pd.DataFrame(matriz_conf, [\"notckd\", \"ckd\"], [\"notckd\", \"ckd\"])\n",
    "\n",
    "sns.heatmap(df_conf, annot=True, annot_kws={\"size\": 16})\n",
    "\n",
    "accuracy_RF = accuracy_score(y_verdadeiro, y_previsao)\n",
    "print(f'Acurácia de {round(accuracy_RF*100,3)}% no modelo floresta aleatória')"
   ]
  },
  {
   "cell_type": "markdown",
   "metadata": {},
   "source": [
    "A célula abaixo serve como input para os dados do paciente. Os dados do paciente são salvos em um dicionário e este tem os valores numéricos convertidos para uma lista, a qual é reformulada apenas para ficar em 2D e ser submetida no modelo. A partir do resultado, é exibido se o paciente tem ou não (muito provavelmente) doença crônica renal."
   ]
  },
  {
   "cell_type": "code",
   "execution_count": 71,
   "metadata": {},
   "outputs": [
    {
     "name": "stdout",
     "output_type": "stream",
     "text": [
      "Esse paciente muito possivelmente tem doença renal crônica\n"
     ]
    }
   ],
   "source": [
    "DADOS_DO_PACIENTE = {\n",
    "    'Idade': 20,  # anos\n",
    "    'Pressão sanguínea(mm/Hg)': 120,  # mm/Hg\n",
    "    'Glicose no Sangue': 100,  # mg/dl\n",
    "    'Ureia no Sangue': 40,  # mg/dl\n",
    "    'Creatinina no Sangue': 0.8,  # mg/dl\n",
    "    'Sódio no Sangue': 140,  # mEq/L\n",
    "    'Potássio no Sangue': 4.2,  # mEq/L\n",
    "    'Hemoglobina': 13.5,  # g/dl\n",
    "    'Volume de células vermelhas no sangue': 45,  # quantos % do volume total do sangue são células vermelhas\n",
    "    'Contagem de glóbulos brancos': 8000,  # células/cumm\n",
    "    'Contagem de glóbulos vermelhos': 5.2,  # milhões/cmm\n",
    "    'Pus Cell': 0,  # 0 para normal, 1 para anormal\n",
    "    'Aglomerados de Pus Cell': 0,  # 0 para não presente, 1 para presente\n",
    "    'Bactéria': 0,  # Referente a infecção bacteriana, 0 para não presente, 1 para presente\n",
    "    'Hipertensão': 1,  # 0 para não, 1 para sim\n",
    "    'Diabetes Mellitus': 1,  # 0 para não, 1 para sim\n",
    "    'Doença Arterial Coronariana': 1,  # 0 para não, 1 para sim\n",
    "    'Apetite normal': 1,  # 0 para apetite anormal(muito tempo sem fome), 1 para apetite normal\n",
    "    'Edema Pedal': 0,# 0 para não, 1 para sim\n",
    "    'Nível normal de células vermelhas': 0,  # 0 para anormal, 1 para normal\n",
    "    'Anemia': 0,  # 0 para não, 1 para sim\n",
    "}\n",
    "\n",
    "dados_para_analise = np.array(list(DADOS_DO_PACIENTE.values())).reshape(1, -1)\n",
    "\n",
    "resultado_predicao = modelo_rf.predict(dados_para_analise)\n",
    "\n",
    "\n",
    "if resultado_predicao[0] == 1:\n",
    "    print(\"Esse paciente muito provavelmente tem doença renal crônica\")  \n",
    "else:\n",
    "    print(\"Esse paciente muito provavelmente não tem doença renal crônica\")  \n",
    "\n"
   ]
  }
 ],
 "metadata": {
  "kernelspec": {
   "display_name": "Python 3.10.8 64-bit",
   "language": "python",
   "name": "python3"
  },
  "language_info": {
   "codemirror_mode": {
    "name": "ipython",
    "version": 3
   },
   "file_extension": ".py",
   "mimetype": "text/x-python",
   "name": "python",
   "nbconvert_exporter": "python",
   "pygments_lexer": "ipython3",
   "version": "3.10.8"
  },
  "orig_nbformat": 4,
  "vscode": {
   "interpreter": {
    "hash": "26de051ba29f2982a8de78e945f0abaf191376122a1563185a90213a26c5da77"
   }
  }
 },
 "nbformat": 4,
 "nbformat_minor": 2
}
